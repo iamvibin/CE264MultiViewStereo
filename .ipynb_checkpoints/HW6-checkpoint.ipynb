{
 "cells": [
  {
   "cell_type": "code",
   "execution_count": 1,
   "metadata": {},
   "outputs": [],
   "source": [
    "import numpy as np\n",
    "from scipy.linalg import null_space"
   ]
  },
  {
   "cell_type": "code",
   "execution_count": 8,
   "metadata": {},
   "outputs": [],
   "source": [
    "K = np.array([[400, 0, 320],\n",
    "             [0, 400, 240],\n",
    "             [0, 0, 1]], float)\n",
    "E = np.array([[9.85, -81.12, 1.74],\n",
    "             [-94.56, 39.62, -90.6],\n",
    "             [32.57, 108.86, 43.46]])"
   ]
  },
  {
   "cell_type": "code",
   "execution_count": 15,
   "metadata": {},
   "outputs": [
    {
     "name": "stdout",
     "output_type": "stream",
     "text": [
      "[[ 0.0025  0.     -0.8   ]\n",
      " [ 0.      0.0025 -0.6   ]\n",
      " [ 0.      0.      1.    ]]\n"
     ]
    }
   ],
   "source": [
    "K_inv = np.linalg.inv(K)\n",
    "K_inv_trans = np.transpose(K_inv)\n",
    "print(K_inv)"
   ]
  },
  {
   "cell_type": "code",
   "execution_count": 16,
   "metadata": {},
   "outputs": [
    {
     "name": "stdout",
     "output_type": "stream",
     "text": [
      "[[ 6.15625e-05 -5.07000e-04  1.06330e-01]\n",
      " [-5.91000e-04  2.47625e-04 -9.68100e-02]\n",
      " [ 2.03565e-01  3.74960e-01 -5.87032e+01]]\n"
     ]
    }
   ],
   "source": [
    "F = np.matmul(np.matmul(K_inv_trans,E),K_inv)\n",
    "print(F)"
   ]
  },
  {
   "cell_type": "code",
   "execution_count": 17,
   "metadata": {},
   "outputs": [
    {
     "name": "stdout",
     "output_type": "stream",
     "text": [
      "[[ 6.15625e-05 -5.91000e-04  2.03565e-01]\n",
      " [-5.07000e-04  2.47625e-04  3.74960e-01]\n",
      " [ 1.06330e-01 -9.68100e-02 -5.87032e+01]]\n"
     ]
    }
   ],
   "source": [
    "F_transpose = np.transpose(F)\n",
    "print(F_transpose)"
   ]
  },
  {
   "cell_type": "code",
   "execution_count": 19,
   "metadata": {},
   "outputs": [
    {
     "data": {
      "text/plain": [
       "array([], shape=(3, 0), dtype=float64)"
      ]
     },
     "execution_count": 19,
     "metadata": {},
     "output_type": "execute_result"
    }
   ],
   "source": [
    "null_space(F)"
   ]
  },
  {
   "cell_type": "code",
   "execution_count": 50,
   "metadata": {},
   "outputs": [],
   "source": [
    "import scipy\n",
    "from scipy import linalg, matrix\n",
    "u, s, vh = scipy.linalg.svd(F)"
   ]
  },
  {
   "cell_type": "code",
   "execution_count": 51,
   "metadata": {},
   "outputs": [
    {
     "data": {
      "text/plain": [
       "array([[ 1.81126564e-03,  4.21137884e-01, -9.06994819e-01],\n",
       "       [-1.64904346e-03, -9.06993816e-01, -4.21140712e-01],\n",
       "       [-9.99997000e-01,  2.25847158e-03, -9.48332062e-04]])"
      ]
     },
     "execution_count": 51,
     "metadata": {},
     "output_type": "execute_result"
    }
   ],
   "source": [
    "u"
   ]
  },
  {
   "cell_type": "code",
   "execution_count": 66,
   "metadata": {},
   "outputs": [
    {
     "data": {
      "text/plain": [
       "array([[-0.00346757, -0.0063872 ,  0.99997359],\n",
       "       [ 0.92844867,  0.37141862,  0.00559193],\n",
       "       [ 0.37144453, -0.92844354, -0.00464227]])"
      ]
     },
     "execution_count": 66,
     "metadata": {},
     "output_type": "execute_result"
    }
   ],
   "source": [
    "vh"
   ]
  },
  {
   "cell_type": "code",
   "execution_count": 70,
   "metadata": {},
   "outputs": [
    {
     "name": "stdout",
     "output_type": "stream",
     "text": [
      "956.4105820334039\n",
      "444.085704522496\n"
     ]
    }
   ],
   "source": [
    "#Last column of U is e_right\n",
    "print(u[0,2]/u[2,2])\n",
    "print(u[1,2]/u[2,2])"
   ]
  },
  {
   "cell_type": "code",
   "execution_count": 137,
   "metadata": {},
   "outputs": [
    {
     "name": "stdout",
     "output_type": "stream",
     "text": [
      "-80.0135619588713\n",
      "199.9977617497884\n"
     ]
    }
   ],
   "source": [
    "# Last row of V_transpose (== last column of V) is e_left\n",
    "print(vh[2,0]/vh[2,2])\n",
    "print(vh[2,1]/vh[2,2])"
   ]
  },
  {
   "cell_type": "code",
   "execution_count": 138,
   "metadata": {},
   "outputs": [
    {
     "data": {
      "text/plain": [
       "array([[ 4.3500e-03],\n",
       "       [-2.2650e-01],\n",
       "       [ 9.6428e+01]])"
      ]
     },
     "execution_count": 138,
     "metadata": {},
     "output_type": "execute_result"
    }
   ],
   "source": [
    "# 2nd question\n",
    "# Finding the right line\n",
    "pL = np.array([[0,0,10]])\n",
    "pSL = np.matmul(K,np.transpose(pL))/10\n",
    "prod_pL_F = np.matmul(F,pSL)\n",
    "prod_pL_F"
   ]
  },
  {
   "cell_type": "code",
   "execution_count": 161,
   "metadata": {},
   "outputs": [],
   "source": [
    "# A random point on the right line:\n",
    "pSR = np.array([200,429.57,1])\n",
    "#pSR = np.array([-16960.46,100,1])\n",
    "prod_pR_F = np.matmul(F_transpose,pSR)"
   ]
  },
  {
   "cell_type": "code",
   "execution_count": 162,
   "metadata": {},
   "outputs": [
    {
     "data": {
      "text/plain": [
       "array([0.000395])"
      ]
     },
     "execution_count": 162,
     "metadata": {},
     "output_type": "execute_result"
    }
   ],
   "source": [
    "np.dot(pSR, prod_pL_F)"
   ]
  },
  {
   "cell_type": "code",
   "execution_count": 163,
   "metadata": {},
   "outputs": [
    {
     "data": {
      "text/plain": [
       "array([-3.79983700e-02,  3.79932271e-01, -7.90238717e+01])"
      ]
     },
     "execution_count": 163,
     "metadata": {},
     "output_type": "execute_result"
    }
   ],
   "source": [
    "# The left line:\n",
    "prod_pR_F"
   ]
  },
  {
   "cell_type": "code",
   "execution_count": 175,
   "metadata": {},
   "outputs": [
    {
     "data": {
      "text/plain": [
       "0.0024521500000105334"
      ]
     },
     "execution_count": 175,
     "metadata": {},
     "output_type": "execute_result"
    }
   ],
   "source": [
    "# Verify left epipole is on left line:\n",
    "np.dot(np.array([-80,200,1]), prod_pR_F)"
   ]
  },
  {
   "cell_type": "code",
   "execution_count": 176,
   "metadata": {},
   "outputs": [
    {
     "data": {
      "text/plain": [
       "array([-8.32099])"
      ]
     },
     "execution_count": 176,
     "metadata": {},
     "output_type": "execute_result"
    }
   ],
   "source": [
    "# Verify right epipole is on right line:\n",
    "np.dot(np.array([-956.4,444.1,1]), prod_pL_F)"
   ]
  }
 ],
 "metadata": {
  "kernelspec": {
   "display_name": "Python [conda root]",
   "language": "python",
   "name": "conda-root-py"
  },
  "language_info": {
   "codemirror_mode": {
    "name": "ipython",
    "version": 2
   },
   "file_extension": ".py",
   "mimetype": "text/x-python",
   "name": "python",
   "nbconvert_exporter": "python",
   "pygments_lexer": "ipython2",
   "version": "2.7.6"
  }
 },
 "nbformat": 4,
 "nbformat_minor": 2
}
