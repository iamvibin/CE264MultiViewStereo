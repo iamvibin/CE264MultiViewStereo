{
 "cells": [
  {
   "cell_type": "code",
   "execution_count": 1,
   "metadata": {},
   "outputs": [
    {
     "name": "stdout",
     "output_type": "stream",
     "text": [
      "total error:  0.0\n"
     ]
    }
   ],
   "source": [
    "import numpy as np\n",
    "import cv2\n",
    "import os\n",
    "import glob\n",
    "\n",
    "# termination criteria\n",
    "criteria = (cv2.TERM_CRITERIA_EPS + cv2.TERM_CRITERIA_MAX_ITER, 30, 0.0001)\n",
    "\n",
    "# prepare object points, like (0,0,0), (1,0,0), (2,0,0) ....,(6,5,0)\n",
    "objp = np.zeros((6*7,3), np.float32)\n",
    "objp[:,:2] = np.mgrid[0:7,0:6].T.reshape(-1,2)\n",
    "\n",
    "# Arrays to store object points and image points from all the images.\n",
    "objpoints = [] # 3d point in real world space\n",
    "imgpoints = [] # 2d points in image plane.\n",
    "\n",
    "images = glob.glob('./CalibImages/*.JPG')\n",
    "\n",
    "for fname in images:\n",
    "    img = cv2.imread(fname)\n",
    "\n",
    "    gray = cv2.cvtColor(img,cv2.COLOR_BGR2GRAY)\n",
    "\n",
    "    # Find the chess board corners\n",
    "    ret, corners = cv2.findChessboardCorners(gray, (7,6),None)\n",
    "\n",
    "    # If found, add object points, image points (after refining them)\n",
    "    if ret == True:\n",
    "        objpoints.append(objp)\n",
    "\n",
    "        cv2.cornerSubPix(gray,corners,(11,11),(-1,-1),criteria)\n",
    "        imgpoints.append(corners)\n",
    "\n",
    "        # Draw and display the corners\n",
    "        #cv2.drawChessboardCorners(img, (7,6), corners,ret)\n",
    "        #cv2.imshow('img',img)\n",
    "        #cv2.waitKey(500)\n",
    "\n",
    "#cv2.destroyAllWindows()\n",
    "\n",
    "ret2, mtx, dist, rvecs, tvecs = cv2.calibrateCamera(objpoints, imgpoints, gray.shape[::-1],None,None)\n",
    "\n",
    "mean_error = 0.0000\n",
    "tot_error = 0.0000\n",
    "\n",
    "for i in xrange(len(objpoints)):\n",
    "    imgpoints2, _ = cv2.projectPoints(objpoints[i], rvecs[i], tvecs[i], mtx, dist)\n",
    "    error = cv2.norm(imgpoints[i],imgpoints2, cv2.NORM_L2)/len(imgpoints2)\n",
    "    tot_error += error\n",
    "\n",
    "print 'total error: ', mean_error/len(objpoints)"
   ]
  },
  {
   "cell_type": "code",
   "execution_count": 5,
   "metadata": {
    "scrolled": false
   },
   "outputs": [
    {
     "name": "stdout",
     "output_type": "stream",
     "text": [
      "Camera matrix: \n",
      "[[3.27894981e+03 0.00000000e+00 2.05358222e+03]\n",
      " [0.00000000e+00 3.29320263e+03 1.49021929e+03]\n",
      " [0.00000000e+00 0.00000000e+00 1.00000000e+00]]\n",
      "Distortion coefficients: \n",
      "[[ 2.83092458e-01 -1.66799155e+00 -1.62644698e-03  4.04708463e-04\n",
      "   3.04420786e+00]]\n",
      "Rotation vector: \n",
      "[array([[ 0.22858952],\n",
      "       [-0.05937148],\n",
      "       [ 0.02399552]]), array([[-0.20254259],\n",
      "       [-0.09617585],\n",
      "       [-0.02992782]]), array([[ 0.01236527],\n",
      "       [-0.16722998],\n",
      "       [-0.14128718]]), array([[-0.0759229 ],\n",
      "       [-0.32239681],\n",
      "       [ 0.29888385]]), array([[-0.24347854],\n",
      "       [-0.07608671],\n",
      "       [ 0.10121536]]), array([[-0.02542351],\n",
      "       [-0.05628719],\n",
      "       [-0.01010491]])]\n",
      "Translation vector: \n",
      "[array([[-1.904761  ],\n",
      "       [-1.9479296 ],\n",
      "       [ 8.37920347]]), array([[-1.96385277],\n",
      "       [-2.73899755],\n",
      "       [ 9.41938815]]), array([[-1.75248331],\n",
      "       [-2.30743998],\n",
      "       [ 9.3139964 ]]), array([[ 0.2543675 ],\n",
      "       [-2.49115005],\n",
      "       [10.87343066]]), array([[-1.40739142],\n",
      "       [-2.53342786],\n",
      "       [ 9.98464819]]), array([[-2.23575408],\n",
      "       [-2.51243553],\n",
      "       [ 9.15458097]])]\n"
     ]
    }
   ],
   "source": [
    "print 'Camera matrix: \\n', mtx\n",
    "print 'Distortion coefficients: \\n', dist\n",
    "print 'Rotation vector: \\n', rvecs\n",
    "print 'Translation vector: \\n', tvecs"
   ]
  },
  {
   "cell_type": "code",
   "execution_count": null,
   "metadata": {
    "collapsed": true
   },
   "outputs": [],
   "source": []
  }
 ],
 "metadata": {
  "kernelspec": {
   "display_name": "Python [conda root]",
   "language": "python",
   "name": "conda-root-py"
  },
  "language_info": {
   "codemirror_mode": {
    "name": "ipython",
    "version": 2
   },
   "file_extension": ".py",
   "mimetype": "text/x-python",
   "name": "python",
   "nbconvert_exporter": "python",
   "pygments_lexer": "ipython2",
   "version": "2.7.6"
  }
 },
 "nbformat": 4,
 "nbformat_minor": 2
}
